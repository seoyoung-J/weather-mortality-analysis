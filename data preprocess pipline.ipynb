{
 "cells": [
  {
   "cell_type": "code",
   "execution_count": null,
   "id": "86b315c7-1c5e-41e4-b692-b9cd32450d18",
   "metadata": {},
   "outputs": [],
   "source": [
    "import pandas as pd\n",
    "import numpy as np\n",
    "import matplotlib.pyplot as plt\n",
    "import seaborn as sns"
   ]
  },
  {
   "cell_type": "code",
   "execution_count": null,
   "id": "1628b215-48f6-4413-9210-49fa5a9378d8",
   "metadata": {},
   "outputs": [],
   "source": [
    "def process_2021_month(file, year, month):\n",
    "    # # Table 11a 시트(england) / # Table 11b 시트(wales) 불러오기 \n",
    "    england_df = pd.read_excel(file, sheet_name='Table 11a') \n",
    "    wales_df = pd.read_excel(file, sheet_name='Table 11b')\n",
    "    # 필요한 부분만 사용 \n",
    "    england_df = england_df.iloc[5:15, :4] \n",
    "    wales_df = wales_df.iloc[5:15, :4]\n",
    "    # 컬럼 이름 재정의 -> [질병, 순위, 사망자 수, 100000명당 사망자 수] \n",
    "    england_df.columns = ['disease', 'rank', 'num_deaths', 'deaths_per_100000'] \n",
    "    wales_df.columns = ['disease', 'rank', 'num_deaths', 'deaths_per_100000']\n",
    "    # rank열 필요없어서 drop \n",
    "    england_df = england_df.drop(['rank'], axis=1)\n",
    "    wales_df = wales_df.drop(['rank'], axis=1)\n",
    "    # country(나라) 컬럼 생성 \n",
    "    england_df['country'] = 'England'\n",
    "    wales_df['country'] = 'Wales'\n",
    "    # 두개의 df concat\n",
    "    merged = pd.concat([england_df, wales_df])\n",
    "    # date 컬럼 생성 \n",
    "    merged['date'] = f\"{year}-{month}\"\n",
    "    return merged\n",
    "    "
   ]
  },
  {
   "cell_type": "code",
   "execution_count": null,
   "id": "ad0074cf-ba20-47c6-9ca9-c88ac7c44bb1",
   "metadata": {},
   "outputs": [],
   "source": [
    "def process_2021():\n",
    "    to_return_df = pd.DataFrame()\n",
    "    for month in range(1, 13): # month = 1~12까지 반복 \n",
    "        file_name = f\"uk_data/2021_{month:02}_monthly_mortality.xlsx\" \n",
    "        to_return_df = pd.concat([to_return_df, process_2021_month(file_name, 2021, month)])\n",
    "    return to_return_df"
   ]
  },
  {
   "cell_type": "code",
   "execution_count": null,
   "id": "f2b0a2c8-4336-4c2a-a69d-3cbc36b644b1",
   "metadata": {},
   "outputs": [],
   "source": [
    "def process_2022_month(file, year, month):  # 2022-01~10월 concat하는 함수 \n",
    "    start_row = 6\n",
    "    end_row = 16\n",
    "    if month > 5:\n",
    "        start_row = 7\n",
    "        end_row = 17\n",
    "    england_df = pd.read_excel(file, sheet_name='11a')\n",
    "    wales_df = pd.read_excel(file, sheet_name='11b')\n",
    "    england_df = england_df.iloc[start_row:end_row, :4]\n",
    "    wales_df = wales_df.iloc[start_row:end_row, :4]\n",
    "    england_df.columns = ['disease', 'rank', 'num_deaths', 'deaths_per_100000']\n",
    "    wales_df.columns = ['disease', 'rank', 'num_deaths', 'deaths_per_100000']\n",
    "    england_df = england_df.drop(['rank'], axis=1)\n",
    "    wales_df = wales_df.drop(['rank'], axis=1)\n",
    "    england_df['country'] = 'England'\n",
    "    wales_df['country'] = 'Wales'\n",
    "    merged = pd.concat([england_df, wales_df])\n",
    "    merged['date'] = f\"{year}-{month}\"\n",
    "    \n",
    "    return merged"
   ]
  },
  {
   "cell_type": "code",
   "execution_count": null,
   "id": "103a9d37-1327-4ea2-ab7a-8359203574e2",
   "metadata": {},
   "outputs": [],
   "source": [
    "def process_2022():\n",
    "    to_return_df = pd.DataFrame()\n",
    "    for month in range(1, 11):  # month = 1~10까지 반복 \n",
    "        file_name = f\"uk_data/2022_{month:02}_monthly_mortality.xlsx\"\n",
    "        to_return_df = pd.concat([to_return_df, process_2022_month(file_name, 2022, month)])\n",
    "    return to_return_df"
   ]
  },
  {
   "cell_type": "code",
   "execution_count": null,
   "id": "2e2f5120-f4cf-43f4-bfec-b6eead9fb4e9",
   "metadata": {},
   "outputs": [],
   "source": [
    "def process_2022_11(): # 2022-11 concat df\n",
    "    year=2022\n",
    "    month=11\n",
    "    file= f\"uk_data/2022_11_monthly_mortality.xlsx\"\n",
    "    england_df = pd.read_excel(file, sheet_name='12a')\n",
    "    wales_df = pd.read_excel(file, sheet_name='12b')\n",
    "    england_df = england_df.iloc[7:17, :4]\n",
    "    wales_df = wales_df.iloc[7:17, :4]\n",
    "    england_df.columns = ['disease', 'rank', 'num_deaths', 'deaths_per_100000']\n",
    "    wales_df.columns = ['disease', 'rank', 'num_deaths', 'deaths_per_100000']\n",
    "    england_df = england_df.drop(['rank'], axis=1)\n",
    "    wales_df = wales_df.drop(['rank'], axis=1)\n",
    "    england_df['country'] = 'England'\n",
    "    wales_df['country'] = 'Wales'\n",
    "    merged = pd.concat([england_df, wales_df])\n",
    "    merged['date'] = f\"{year}-{month}\"\n",
    "    return merged"
   ]
  },
  {
   "cell_type": "code",
   "execution_count": null,
   "id": "fc047e50-f8cf-4f45-a892-634769d5e67b",
   "metadata": {},
   "outputs": [],
   "source": [
    "def process_2022_12(): # 2022-12 concat df\n",
    "    year=2022\n",
    "    month=12\n",
    "    file= f\"uk_data/2022_12_monthly_mortality.xlsx\"\n",
    "    england_df = pd.read_excel(file, sheet_name='12a')\n",
    "    wales_df = pd.read_excel(file, sheet_name='13a')\n",
    "    england_df = england_df.iloc[6:16, :4]\n",
    "    wales_df = wales_df.iloc[6:16, :4]\n",
    "    england_df.columns = ['rank', 'disease',  'num_deaths', 'deaths_per_100000']\n",
    "    wales_df.columns = ['rank', 'disease', 'num_deaths', 'deaths_per_100000']\n",
    "    england_df = england_df.drop(['rank'], axis=1)\n",
    "    wales_df = wales_df.drop(['rank'], axis=1)\n",
    "    england_df['country'] = 'England'\n",
    "    wales_df['country'] = 'Wales'\n",
    "    merged = pd.concat([england_df, wales_df])\n",
    "    merged['date'] = f\"{year}-{month}\"\n",
    "    return merged"
   ]
  },
  {
   "cell_type": "code",
   "execution_count": null,
   "id": "d2b96c6f-02e5-474c-8af2-4e2772947d2a",
   "metadata": {},
   "outputs": [],
   "source": [
    "def process_all():  # 위의 함수를 모두 실행\n",
    "    to_return_df = process_2021()\n",
    "    to_return_df = pd.concat([to_return_df, process_2022()])\n",
    "    to_return_df = pd.concat([to_return_df, process_2022_11()])\n",
    "    to_return_df = pd.concat([to_return_df, process_2022_12()])\n",
    "    return to_return_df"
   ]
  },
  {
   "cell_type": "code",
   "execution_count": null,
   "id": "cca25719-e1bf-46ef-a088-4bf371048808",
   "metadata": {},
   "outputs": [],
   "source": [
    "def clean_disease(df): # disease 컬럼 전처리 \n",
    "    df['disease'] = df['disease'].apply(lambda x: x.replace(\"'s\", \"\"))\n",
    "    df['disease'] = df['disease'].apply(lambda x: x.replace(\",\", \"\"))\n",
    "    df['disease'] = df['disease'].apply(lambda x: x.strip())\n",
    "    df['disease'] = df['disease'].apply(lambda x: x.lower())\n",
    "    df['disease'] = df['disease'].apply(lambda x: x.replace('malignant neoplasms stated or presumed to be primary of lymphoid haematopoietic and related tissue', 'malignant neoplasms of lymphoid haematopoietic and related tissue'))\n",
    "    df['disease'] = df['disease'].apply(lambda x: x.replace('malignant neoplasms of breast', 'malignant neoplasm of breast'))\n",
    "    df = df[ df['disease'] != 'covid-19']\n",
    "    return df"
   ]
  },
  {
   "cell_type": "code",
   "execution_count": null,
   "id": "c72eab15-81f2-4061-b913-1694ab310757",
   "metadata": {},
   "outputs": [],
   "source": [
    "def add_weather_columns(df): # weather_data 전처리\n",
    "    month_int_map = {\n",
    "    \"JAN\": 1,\n",
    "    \"FEB\": 2,\n",
    "    \"MAR\": 3,\n",
    "    \"APR\": 4,\n",
    "    \"MAY\": 5,\n",
    "    \"JUN\": 6,\n",
    "    \"JUL\": 7,\n",
    "    \"AUG\": 8,\n",
    "    \"SEP\": 9,\n",
    "    \"OCT\": 10,\n",
    "    \"NOV\": 11,\n",
    "    \"DEC\": 12,\n",
    "    }\n",
    "    weather_df = pd.read_csv('uk_data/uk_weather_data.csv')\n",
    "    weather_df = weather_df[ weather_df['ReportingPeriodType'] == 'Month']\n",
    "    weather_df = weather_df[['Year', 'Period', 'Rainfall_mm', 'Temperature_C']]\n",
    "    years =[2022, 2021]\n",
    "    weather_df = weather_df[ weather_df['Year'].isin(years) ]\n",
    "    weather_df['Period'] = weather_df['Period'].apply(lambda x: month_int_map[x])\n",
    "    weather_df['date'] = weather_df['Year'].astype(str) + '-' + weather_df['Period'].astype(str)\n",
    "    weather_df=weather_df.drop('Period', axis=1)\n",
    "    weather_df=weather_df.drop('Year', axis=1)\n",
    "    weather_df.columns = ['rainfall', 'temperature', 'date']\n",
    "    merged_df = pd.merge(df, weather_df, on='date', how='left')\n",
    "    merged_df['date'] = pd.to_datetime(merged_df['date'])\n",
    "    merged_df['date'] = merged_df['date'].dt.to_period('M')\n",
    "    merged_df['year'] = merged_df['date'].dt.year\n",
    "    merged_df['month'] = merged_df['date'].dt.month\n",
    "    return merged_df\n",
    "    "
   ]
  },
  {
   "cell_type": "code",
   "execution_count": null,
   "id": "54aee801-894c-4f6d-89bb-6d09c3b1f3d7",
   "metadata": {},
   "outputs": [],
   "source": [
    "df = clean_disease(process_all())\n",
    "df = add_weather_columns(df)"
   ]
  },
  {
   "cell_type": "code",
   "execution_count": null,
   "id": "a1aa1bd2-21f1-4067-a02e-8ded72ccee20",
   "metadata": {},
   "outputs": [],
   "source": [
    "to_remove = ['cardiac arrhythmias', 'cirrhosis and other diseases of liver', 'diseases of the urinary system', 'heart failure and complications and ill-defined heart disease', 'malignant neoplasm of breast', 'malignant neoplasm of pancreas', 'malignant neoplasm of prostate']\n",
    "df = df[ ~df['disease'].isin(to_remove) ]"
   ]
  },
  {
   "cell_type": "code",
   "execution_count": null,
   "id": "d8068795-d4c6-45b0-bda1-ebbf82e6d13c",
   "metadata": {},
   "outputs": [
    {
     "data": {
      "text/html": [
       "<div>\n",
       "<style scoped>\n",
       "    .dataframe tbody tr th:only-of-type {\n",
       "        vertical-align: middle;\n",
       "    }\n",
       "\n",
       "    .dataframe tbody tr th {\n",
       "        vertical-align: top;\n",
       "    }\n",
       "\n",
       "    .dataframe thead th {\n",
       "        text-align: right;\n",
       "    }\n",
       "</style>\n",
       "<table border=\"1\" class=\"dataframe\">\n",
       "  <thead>\n",
       "    <tr style=\"text-align: right;\">\n",
       "      <th></th>\n",
       "      <th>disease</th>\n",
       "      <th>num_deaths</th>\n",
       "      <th>deaths_per_100000</th>\n",
       "      <th>country</th>\n",
       "      <th>date</th>\n",
       "      <th>rainfall</th>\n",
       "      <th>temperature</th>\n",
       "      <th>year</th>\n",
       "      <th>month</th>\n",
       "    </tr>\n",
       "  </thead>\n",
       "  <tbody>\n",
       "    <tr>\n",
       "      <th>0</th>\n",
       "      <td>dementia and alzheimer disease</td>\n",
       "      <td>5655</td>\n",
       "      <td>119.4</td>\n",
       "      <td>England</td>\n",
       "      <td>2021-01</td>\n",
       "      <td>132.0</td>\n",
       "      <td>1.9</td>\n",
       "      <td>2021</td>\n",
       "      <td>1</td>\n",
       "    </tr>\n",
       "    <tr>\n",
       "      <th>1</th>\n",
       "      <td>ischaemic heart diseases</td>\n",
       "      <td>4833</td>\n",
       "      <td>103</td>\n",
       "      <td>England</td>\n",
       "      <td>2021-01</td>\n",
       "      <td>132.0</td>\n",
       "      <td>1.9</td>\n",
       "      <td>2021</td>\n",
       "      <td>1</td>\n",
       "    </tr>\n",
       "    <tr>\n",
       "      <th>2</th>\n",
       "      <td>cerebrovascular diseases</td>\n",
       "      <td>2516</td>\n",
       "      <td>53.4</td>\n",
       "      <td>England</td>\n",
       "      <td>2021-01</td>\n",
       "      <td>132.0</td>\n",
       "      <td>1.9</td>\n",
       "      <td>2021</td>\n",
       "      <td>1</td>\n",
       "    </tr>\n",
       "    <tr>\n",
       "      <th>3</th>\n",
       "      <td>malignant neoplasm of trachea bronchus and lung</td>\n",
       "      <td>2274</td>\n",
       "      <td>48.6</td>\n",
       "      <td>England</td>\n",
       "      <td>2021-01</td>\n",
       "      <td>132.0</td>\n",
       "      <td>1.9</td>\n",
       "      <td>2021</td>\n",
       "      <td>1</td>\n",
       "    </tr>\n",
       "    <tr>\n",
       "      <th>4</th>\n",
       "      <td>chronic lower respiratory diseases</td>\n",
       "      <td>2025</td>\n",
       "      <td>43.1</td>\n",
       "      <td>England</td>\n",
       "      <td>2021-01</td>\n",
       "      <td>132.0</td>\n",
       "      <td>1.9</td>\n",
       "      <td>2021</td>\n",
       "      <td>1</td>\n",
       "    </tr>\n",
       "    <tr>\n",
       "      <th>...</th>\n",
       "      <td>...</td>\n",
       "      <td>...</td>\n",
       "      <td>...</td>\n",
       "      <td>...</td>\n",
       "      <td>...</td>\n",
       "      <td>...</td>\n",
       "      <td>...</td>\n",
       "      <td>...</td>\n",
       "      <td>...</td>\n",
       "    </tr>\n",
       "    <tr>\n",
       "      <th>435</th>\n",
       "      <td>influenza and pneumonia</td>\n",
       "      <td>206</td>\n",
       "      <td>70.3</td>\n",
       "      <td>Wales</td>\n",
       "      <td>2022-12</td>\n",
       "      <td>80.4</td>\n",
       "      <td>2.9</td>\n",
       "      <td>2022</td>\n",
       "      <td>12</td>\n",
       "    </tr>\n",
       "    <tr>\n",
       "      <th>436</th>\n",
       "      <td>cerebrovascular diseases</td>\n",
       "      <td>174</td>\n",
       "      <td>58</td>\n",
       "      <td>Wales</td>\n",
       "      <td>2022-12</td>\n",
       "      <td>80.4</td>\n",
       "      <td>2.9</td>\n",
       "      <td>2022</td>\n",
       "      <td>12</td>\n",
       "    </tr>\n",
       "    <tr>\n",
       "      <th>437</th>\n",
       "      <td>malignant neoplasm of trachea bronchus and lung</td>\n",
       "      <td>140</td>\n",
       "      <td>45.8</td>\n",
       "      <td>Wales</td>\n",
       "      <td>2022-12</td>\n",
       "      <td>80.4</td>\n",
       "      <td>2.9</td>\n",
       "      <td>2022</td>\n",
       "      <td>12</td>\n",
       "    </tr>\n",
       "    <tr>\n",
       "      <th>438</th>\n",
       "      <td>symptoms signs and ill-defined conditions</td>\n",
       "      <td>127</td>\n",
       "      <td>45.1</td>\n",
       "      <td>Wales</td>\n",
       "      <td>2022-12</td>\n",
       "      <td>80.4</td>\n",
       "      <td>2.9</td>\n",
       "      <td>2022</td>\n",
       "      <td>12</td>\n",
       "    </tr>\n",
       "    <tr>\n",
       "      <th>439</th>\n",
       "      <td>malignant neoplasm of colon sigmoid rectum and...</td>\n",
       "      <td>70</td>\n",
       "      <td>23.3</td>\n",
       "      <td>Wales</td>\n",
       "      <td>2022-12</td>\n",
       "      <td>80.4</td>\n",
       "      <td>2.9</td>\n",
       "      <td>2022</td>\n",
       "      <td>12</td>\n",
       "    </tr>\n",
       "  </tbody>\n",
       "</table>\n",
       "<p>414 rows × 9 columns</p>\n",
       "</div>"
      ],
      "text/plain": [
       "                                               disease num_deaths  \\\n",
       "0                       dementia and alzheimer disease       5655   \n",
       "1                             ischaemic heart diseases       4833   \n",
       "2                             cerebrovascular diseases       2516   \n",
       "3      malignant neoplasm of trachea bronchus and lung       2274   \n",
       "4                   chronic lower respiratory diseases       2025   \n",
       "..                                                 ...        ...   \n",
       "435                            influenza and pneumonia        206   \n",
       "436                           cerebrovascular diseases        174   \n",
       "437    malignant neoplasm of trachea bronchus and lung        140   \n",
       "438          symptoms signs and ill-defined conditions        127   \n",
       "439  malignant neoplasm of colon sigmoid rectum and...         70   \n",
       "\n",
       "    deaths_per_100000  country     date  rainfall  temperature  year  month  \n",
       "0               119.4  England  2021-01     132.0          1.9  2021      1  \n",
       "1                 103  England  2021-01     132.0          1.9  2021      1  \n",
       "2                53.4  England  2021-01     132.0          1.9  2021      1  \n",
       "3                48.6  England  2021-01     132.0          1.9  2021      1  \n",
       "4                43.1  England  2021-01     132.0          1.9  2021      1  \n",
       "..                ...      ...      ...       ...          ...   ...    ...  \n",
       "435              70.3    Wales  2022-12      80.4          2.9  2022     12  \n",
       "436                58    Wales  2022-12      80.4          2.9  2022     12  \n",
       "437              45.8    Wales  2022-12      80.4          2.9  2022     12  \n",
       "438              45.1    Wales  2022-12      80.4          2.9  2022     12  \n",
       "439              23.3    Wales  2022-12      80.4          2.9  2022     12  \n",
       "\n",
       "[414 rows x 9 columns]"
      ]
     },
     "execution_count": 246,
     "metadata": {},
     "output_type": "execute_result"
    }
   ],
   "source": [
    "df"
   ]
  },
  {
   "cell_type": "code",
   "execution_count": null,
   "id": "0224ad39-69f9-4280-a690-e36714a9e30b",
   "metadata": {},
   "outputs": [],
   "source": [
    "#df.to_csv(\"combined_mortality_and_weather_2021_2022.csv\",index=False) # 전처리 완료 데이터 저장 "
   ]
  },
  {
   "cell_type": "code",
   "execution_count": null,
   "id": "8ea60732-c730-4497-a862-a6b5796ef081",
   "metadata": {},
   "outputs": [
    {
     "data": {
      "text/plain": [
       "array(['dementia and alzheimer disease', 'ischaemic heart diseases',\n",
       "       'cerebrovascular diseases',\n",
       "       'malignant neoplasm of trachea bronchus and lung',\n",
       "       'chronic lower respiratory diseases',\n",
       "       'symptoms signs and ill-defined conditions',\n",
       "       'influenza and pneumonia',\n",
       "       'malignant neoplasm of colon sigmoid rectum and anus',\n",
       "       'malignant neoplasms of lymphoid haematopoietic and related tissue'],\n",
       "      dtype=object)"
      ]
     },
     "execution_count": 220,
     "metadata": {},
     "output_type": "execute_result"
    }
   ],
   "source": [
    "df['disease'].unique() # 질병 종류 9가지 "
   ]
  },
  {
   "cell_type": "code",
   "execution_count": null,
   "id": "af7eb676",
   "metadata": {},
   "outputs": [],
   "source": [
    "# dementia and alzheimer disease(치매 및 알츠하이머) / 48\n",
    "# ischaemic heart diseases(허혈성 심장질환) / 48\n",
    "# cerebrovascular diseases(뇌혈관질환) / 48\n",
    "# malignant neoplasm of trachea bronchus and lung(악성 기관, 기관지 및 폐 신생물 = 폐암) / 48\n",
    "# chronic lower respiratory diseases(만성폐쇄성폐질환, 천식, 폐섬유증) / 48\n",
    "# influenza and pneumonia(인플루엔자 및 폐렴) / 48\n",
    "# malignant neoplasm of colon sigmoid rectum and anus(대장암 및 직장암) / 48\n",
    "# symptoms signs and ill-defined conditions(의학적으로 명확게 진단되지 않은 상태_주요증상:발열,통증,피로,어지러움,불명확한 복통) / 45\n",
    "# malignant neoplasms of lymphoid haematopoietic and related tissue(혈액암_림프종,백혈병,다발성 골수증) / 33 "
   ]
  },
  {
   "cell_type": "code",
   "execution_count": null,
   "id": "551898e5",
   "metadata": {},
   "outputs": [
    {
     "name": "stdout",
     "output_type": "stream",
     "text": [
      "disease\n",
      "dementia and alzheimer disease                                      -0.568921\n",
      "ischaemic heart diseases                                            -0.535644\n",
      "influenza and pneumonia                                             -0.480381\n",
      "cerebrovascular diseases                                            -0.456367\n",
      "symptoms signs and ill-defined conditions                           -0.370868\n",
      "chronic lower respiratory diseases                                  -0.282930\n",
      "malignant neoplasm of colon sigmoid rectum and anus                 -0.018070\n",
      "malignant neoplasms of lymphoid haematopoietic and related tissue    0.064148\n",
      "malignant neoplasm of trachea bronchus and lung                      0.065348\n",
      "dtype: float64\n"
     ]
    },
    {
     "name": "stderr",
     "output_type": "stream",
     "text": [
      "C:\\Users\\Jo\\AppData\\Local\\Temp\\ipykernel_22580\\1140365941.py:2: DeprecationWarning: DataFrameGroupBy.apply operated on the grouping columns. This behavior is deprecated, and in a future version of pandas the grouping columns will be excluded from the operation. Either pass `include_groups=False` to exclude the groupings or explicitly select the grouping columns after groupby to silence this warning.\n",
      "  disease_corr = df.groupby('disease').apply(lambda x: x[['temperature', 'deaths_per_100000']].corr().iloc[0, 1])\n"
     ]
    }
   ],
   "source": [
    "# 각 질병별 온도와 사망률 간의 상관관계 \n",
    "disease_corr = df.groupby('disease').apply(lambda x: x[['temperature', 'deaths_per_100000']].corr().iloc[0, 1])\n",
    "print(disease_corr.sort_values())"
   ]
  },
  {
   "cell_type": "code",
   "execution_count": null,
   "id": "3442d36a",
   "metadata": {},
   "outputs": [
    {
     "name": "stderr",
     "output_type": "stream",
     "text": [
      "C:\\Users\\Jo\\AppData\\Local\\Temp\\ipykernel_22580\\13484962.py:2: DeprecationWarning: DataFrameGroupBy.apply operated on the grouping columns. This behavior is deprecated, and in a future version of pandas the grouping columns will be excluded from the operation. Either pass `include_groups=False` to exclude the groupings or explicitly select the grouping columns after groupby to silence this warning.\n",
      "  disease_corr = df.groupby('disease').apply(lambda x: x[['rainfall', 'deaths_per_100000']].corr().iloc[0, 1])\n"
     ]
    },
    {
     "data": {
      "text/plain": [
       "disease\n",
       "cerebrovascular diseases                                             0.313551\n",
       "chronic lower respiratory diseases                                   0.122804\n",
       "dementia and alzheimer disease                                       0.228459\n",
       "influenza and pneumonia                                              0.198849\n",
       "ischaemic heart diseases                                             0.092428\n",
       "malignant neoplasm of colon sigmoid rectum and anus                 -0.092104\n",
       "malignant neoplasm of trachea bronchus and lung                     -0.227543\n",
       "malignant neoplasms of lymphoid haematopoietic and related tissue   -0.099958\n",
       "symptoms signs and ill-defined conditions                            0.301459\n",
       "dtype: float64"
      ]
     },
     "metadata": {},
     "output_type": "display_data"
    }
   ],
   "source": [
    "# 각 질병별 강수량과 사망률 간의 상관관계 \n",
    "disease_corr = df.groupby('disease').apply(lambda x: x[['rainfall', 'deaths_per_100000']].corr().iloc[0, 1])\n",
    "disease_corr"
   ]
  }
 ],
 "metadata": {
  "kernelspec": {
   "display_name": "Python 3 (ipykernel)",
   "language": "python",
   "name": "python3"
  },
  "language_info": {
   "codemirror_mode": {
    "name": "ipython",
    "version": 3
   },
   "file_extension": ".py",
   "mimetype": "text/x-python",
   "name": "python",
   "nbconvert_exporter": "python",
   "pygments_lexer": "ipython3",
   "version": "3.11.9"
  }
 },
 "nbformat": 4,
 "nbformat_minor": 5
}
